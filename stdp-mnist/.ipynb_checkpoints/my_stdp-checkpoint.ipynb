{
 "cells": [
  {
   "cell_type": "markdown",
   "metadata": {},
   "source": [
    "# STDP - MNIST\n",
    "\n",
    "Auth: Janilbols\n",
    "\n",
    "Create Date: 21.Nov.2018\n",
    "\n",
    "Last Edit Date: 21.Nov.2018\n",
    "\n",
    "Description:\n",
    "    This is the first edition of STDP-MNIST. Using STDP as training logic, and MNIST as test case.\n",
    "    \n",
    "TODO:\n",
    "    1. Script for (init) build up Neural Net\n",
    "    2. Functions for generate current, based on input\n",
    "    3. Script (loop) for stimulation\n",
    "    4. Functions for evaluation\n",
    "    5. Script for plotting\n",
    "\n",
    "Further Work:\n",
    "    1. Packup the function as toolkit\n",
    "    2. Clear up the script"
   ]
  },
  {
   "cell_type": "code",
   "execution_count": null,
   "metadata": {},
   "outputs": [],
   "source": []
  }
 ],
 "metadata": {
  "kernelspec": {
   "display_name": "Python 2",
   "language": "python",
   "name": "python2"
  },
  "language_info": {
   "codemirror_mode": {
    "name": "ipython",
    "version": 2
   },
   "file_extension": ".py",
   "mimetype": "text/x-python",
   "name": "python",
   "nbconvert_exporter": "python",
   "pygments_lexer": "ipython2",
   "version": "2.7.15rc1"
  }
 },
 "nbformat": 4,
 "nbformat_minor": 2
}
