{
 "cells": [
  {
   "cell_type": "markdown",
   "metadata": {},
   "source": [
    "# Injection"
   ]
  },
  {
   "cell_type": "raw",
   "metadata": {},
   "source": [
    "#####################\n",
    "# SPIKE NEURON TEST #\n",
    "#####################"
   ]
  },
  {
   "cell_type": "code",
   "execution_count": 1,
   "metadata": {},
   "outputs": [],
   "source": [
    "from math import exp\n",
    "import numpy\n",
    "import neo\n",
    "from quantities import ms\n",
    "from pyNN.utility import get_simulator, init_logging, normalized_filename\n",
    "from pyNN.utility.plotting import DataTable\n",
    "from pyNN.parameters import Sequence\n",
    "from importlib import import_module"
   ]
  },
  {
   "cell_type": "code",
   "execution_count": 2,
   "metadata": {},
   "outputs": [],
   "source": [
    "op_simulator = \"neuron\"\n",
    "op_debug = False\n",
    "op_dendritic_delay_fraction = False\n",
    "op_fit_curve = False\n",
    "op_plot_figure = True\n",
    "\n",
    "min_delay = 0.01\n",
    "max_delay = 0.1\n",
    "num_neurons = 10"
   ]
  },
  {
   "cell_type": "code",
   "execution_count": 3,
   "metadata": {},
   "outputs": [],
   "source": [
    "firing_period = 100.0    # (ms) interval between spikes\n",
    "cell_parameters = {\n",
    "    \"tau_m\": 10.0,       # (ms)\n",
    "    \"v_thresh\": -50.0,   # (mV)\n",
    "    \"v_reset\": -60.0,    # (mV)\n",
    "    \"v_rest\": -60.0,     # (mV)\n",
    "    \"cm\": 1.0,           # (nF)\n",
    "    \"tau_refrac\": firing_period / 2,  # (ms) long refractory period to prevent bursting\n",
    "}\n",
    "n_neurons = 3                  # number of synapses / number of presynaptic neurons\n",
    "t_stop = 10 * firing_period\n",
    "delay = 0.01              # (ms) synaptic time delay, default=3.0"
   ]
  },
  {
   "cell_type": "code",
   "execution_count": 4,
   "metadata": {},
   "outputs": [
    {
     "data": {
      "text/plain": [
       "0"
      ]
     },
     "execution_count": 4,
     "metadata": {},
     "output_type": "execute_result"
    }
   ],
   "source": [
    "sim = import_module(\"pyNN.\"+op_simulator)\n",
    "\n",
    "if op_debug: \n",
    "    init_logging(None, debug=True)\n",
    "\n",
    "sim.setup(timestep=0.01, min_delay=min_delay, max_delay=max_delay)"
   ]
  },
  {
   "cell_type": "code",
   "execution_count": 5,
   "metadata": {},
   "outputs": [],
   "source": [
    "# DEFINING TESTSET\n",
    "\n",
    "%matplotlib inline\n",
    "import matplotlib.pyplot as plt\n",
    "import numpy as np\n",
    "\n",
    "def plotNeuronsSpikes(spike_table):\n",
    "    n_neuron = np.shape(spike_table)[0]\n",
    "    n_spikes = np.shape(spike_table[0])[0]\n",
    "    labs = np.ones([n_neuron,n_spikes])\n",
    "    for i in range(n_neuron): \n",
    "        labs[i] *= i\n",
    "    plt.figure(figsize=(16,4))\n",
    "    plt.plot(spike_table,labs, 'ro')\n",
    "    plt.show()\n",
    "\n",
    "def generatePoissonSpikes(t_stop = 100, n_neurons = 10, \n",
    "                          delta_steps = 1.0, period = 2.0, norm_sigma = 0.05, flag_Debug = False):\n",
    "    # init\n",
    "    poisson_spike_time = np.array([])\n",
    "    spike_time = np.random.normal(0, period * (1 + norm_sigma), n_neurons)\n",
    "    if flag_Debug:\n",
    "        print \"origin:\\n\", spike_time\n",
    "    min_spike_time = min(spike_time)\n",
    "    while min_spike_time < 0:\n",
    "        spike_step = np.random.poisson(lam = delta_steps, size=(n_neurons))\n",
    "        if flag_Debug:\n",
    "            print(spike_step)\n",
    "        id_temp = np.where(spike_time<0)\n",
    "        spike_time[id_temp] += spike_step[id_temp] * np.random.normal(period, period * norm_sigma ,len(id_temp))\n",
    "        min_spike_time = min(spike_time)\n",
    "    poisson_spike_time = np.append(poisson_spike_time,spike_time,axis=0)\n",
    "    if flag_Debug:\n",
    "        print \"init:\\n\", spike_time\n",
    "    # simulate till t_stop\n",
    "    while min_spike_time < t_stop:\n",
    "    #make sure all the neurons spikes until stop time\n",
    "        spike_step = np.random.poisson(lam = delta_steps, size=(n_neurons))\n",
    "        spike_step[spike_step<1] = 1\n",
    "        if flag_Debug:\n",
    "            print(spike_step)\n",
    "        id_temp = np.where(spike_time>=t_stop)\n",
    "        spike_step[id_temp] = 0\n",
    "        spike_time += spike_step * np.random.normal(period, period * norm_sigma ,len(id_temp))\n",
    "        if flag_Debug:\n",
    "            print(spike_time)\n",
    "        min_spike_time = min(spike_time)\n",
    "        poisson_spike_time = np.append(poisson_spike_time,spike_time,axis=0)\n",
    "    poisson_spike_time = poisson_spike_time.reshape(-1,n_neurons)\n",
    "    poisson_spike_time = np.transpose(poisson_spike_time)\n",
    "    return poisson_spike_time\n",
    "\n",
    "def generateDataMaskedSpikes(poisson_spike_time,)\n",
    "\n",
    "    return spike_time\n",
    "\n",
    "\n",
    "def build_spike_sequences(spike_tabel):\n",
    "    def spike_time_gen(i):\n",
    "        \"\"\"Spike time generator. `i` should be an array of indices.\"\"\"\n",
    "        return [Sequence(spike_tabel[j]) for j in i]\n",
    "    return spike_time_gen"
   ]
  },
  {
   "cell_type": "code",
   "execution_count": 6,
   "metadata": {},
   "outputs": [],
   "source": [
    "spike_tabel = generatePoissonSpikes(t_stop = t_stop, n_neurons = n_neurons, period = firing_period)\n",
    "spike_sequence_generator = build_spike_sequences(spike_tabel)"
   ]
  },
  {
   "cell_type": "code",
   "execution_count": 7,
   "metadata": {},
   "outputs": [],
   "source": [
    "# presynaptic population\n",
    "p_in = sim.Population(n_neurons, sim.SpikeSourceArray(spike_times=spike_sequence_generator),\n",
    "                    label=\"presynaptic\")\n",
    "p_mid_1 = sim.Population(n_neurons, sim.IF_cond_exp(**cell_parameters),\n",
    "                    initial_values={\"v\": cell_parameters[\"v_reset\"]}, label=\"postsynaptic_1\")\n",
    "\n",
    "stdp_model = sim.STDPMechanism(\n",
    "                timing_dependence=sim.SpikePairRule(tau_plus=20.0, tau_minus=20.0,\n",
    "                                                    A_plus=0.01, A_minus=0.012),\n",
    "                weight_dependence=sim.AdditiveWeightDependence(w_min=0, w_max=0.0000001),\n",
    "                weight=0.00000005,\n",
    "                delay=delay,\n",
    "                dendritic_delay_fraction=float(op_dendritic_delay_fraction))\n",
    "connections_1 = sim.Projection(p_in, p_mid_1, sim.OneToOneConnector(), \n",
    "                               sim.StaticSynapse(weight=10.0, delay=delay))"
   ]
  },
  {
   "cell_type": "code",
   "execution_count": 8,
   "metadata": {},
   "outputs": [],
   "source": [
    "p_in.record('spikes')\n",
    "p_mid_1.record(['spikes', 'v'])"
   ]
  },
  {
   "cell_type": "code",
   "execution_count": 9,
   "metadata": {},
   "outputs": [
    {
     "data": {
      "text/plain": [
       "999.999999999163"
      ]
     },
     "execution_count": 9,
     "metadata": {},
     "output_type": "execute_result"
    }
   ],
   "source": [
    "sim.run(t_stop)"
   ]
  },
  {
   "cell_type": "code",
   "execution_count": 10,
   "metadata": {},
   "outputs": [
    {
     "name": "stdout",
     "output_type": "stream",
     "text": [
      "Post-synaptic 1 spike times: [174.08 377.43 576.7  969.08] ms\n"
     ]
    }
   ],
   "source": [
    "presynaptic_data = p_in.get_data().segments[0]\n",
    "postsynaptic_data_1 = p_mid_1.get_data().segments[0]\n",
    "print(\"Post-synaptic 1 spike times: %s\" % postsynaptic_data_1.spiketrains[0])"
   ]
  },
  {
   "cell_type": "code",
   "execution_count": 14,
   "metadata": {},
   "outputs": [
    {
     "data": {
      "image/png": "[encoded data removed]",
      "text/plain": [
       "<Figure size 1152x288 with 1 Axes>"
      ]
     },
     "metadata": {
      "needs_background": "light"
     },
     "output_type": "display_data"
    },
    {
     "data": {
      "image/png": "[encoded data removed]",
      "text/plain": [
       "<Figure size 1152x576 with 2 Axes>"
      ]
     },
     "metadata": {
      "needs_background": "light"
     },
     "output_type": "display_data"
    }
   ],
   "source": [
    "plotNeuronsSpikes(spike_tabel)\n",
    "filename = normalized_filename(\"Results\", \"my_stdp\", \"pkl\", op_simulator)\n",
    "if op_plot_figure:\n",
    "    from pyNN.utility.plotting import Figure, Panel, DataTable\n",
    "    figure_filename = filename.replace(\"pkl\", \"png\")\n",
    "    Figure(\n",
    "        # raster plot of the presynaptic neuron spike times\n",
    "        Panel(presynaptic_data.spiketrains,\n",
    "              yticks=True, markersize=0.2, xlim=(0, t_stop)),\n",
    "        # membrane potential of the postsynaptic neuron 1\n",
    "        Panel(postsynaptic_data_1.filter(name='v')[0],\n",
    "              ylabel=\"Membrane-1 potential (mV)\",\n",
    "              data_labels=[p_mid_1.label], yticks=True, xlim=(0, t_stop)),\n",
    "        title=\"MY - STDP\",\n",
    "        annotations=\"Simulated with %s\" % op_simulator.upper(),\n",
    "        size = (16,8)\n",
    "    )"
   ]
  },
  {
   "cell_type": "code",
   "execution_count": 12,
   "metadata": {},
   "outputs": [],
   "source": [
    "# === Clean up and quit ========================================================\n",
    "sim.end()"
   ]
  },
  {
   "cell_type": "code",
   "execution_count": 3,
   "metadata": {},
   "outputs": [],
   "source": []
  },
  {
   "cell_type": "code",
   "execution_count": null,
   "metadata": {},
   "outputs": [],
   "source": []
  },
  {
   "cell_type": "code",
   "execution_count": null,
   "metadata": {},
   "outputs": [],
   "source": []
  },
  {
   "cell_type": "code",
   "execution_count": null,
   "metadata": {},
   "outputs": [],
   "source": []
  },
  {
   "cell_type": "code",
   "execution_count": null,
   "metadata": {},
   "outputs": [],
   "source": []
  },
  {
   "cell_type": "code",
   "execution_count": null,
   "metadata": {},
   "outputs": [],
   "source": []
  },
  {
   "cell_type": "code",
   "execution_count": null,
   "metadata": {},
   "outputs": [],
   "source": []
  },
  {
   "cell_type": "code",
   "execution_count": null,
   "metadata": {},
   "outputs": [],
   "source": []
  },
  {
   "cell_type": "code",
   "execution_count": null,
   "metadata": {},
   "outputs": [],
   "source": []
  },
  {
   "cell_type": "code",
   "execution_count": null,
   "metadata": {},
   "outputs": [],
   "source": []
  },
  {
   "cell_type": "code",
   "execution_count": null,
   "metadata": {},
   "outputs": [],
   "source": []
  },
  {
   "cell_type": "markdown",
   "metadata": {},
   "source": [
    "# Data Handler"
   ]
  },
  {
   "cell_type": "code",
   "execution_count": 31,
   "metadata": {},
   "outputs": [],
   "source": [
    "%matplotlib inline\n",
    "import numpy as np\n",
    "import pickle\n",
    "import os\n",
    "import matplotlib.pyplot as plt\n",
    "\n",
    "class DataHandler:\n",
    "    '''\n",
    "        mnist data downloaded from 'https://www.python-course.eu/neural_network_mnist.php'\n",
    "    '''\n",
    "    \n",
    "    def __init__(self, randseed = 20181121, MNIST_data_path = '/home/janilbols/Code/data/mnist/', \n",
    "                 image_size = 28, no_of_different_labels = 10):        \n",
    "        self.randseed = randseed\n",
    "        self.data_path = MNIST_data_path\n",
    "        self.image_size = image_size # width and length\n",
    "        self.no_of_different_labels = no_of_different_labels #  i.e. 0, 1, 2, 3, ..., 9\n",
    "        self.image_pixels = image_size * image_size\n",
    "        \n",
    "        self.train_data = np.array([])\n",
    "        self.train_label = np.array([])\n",
    "        self.train_label_one_hot = np.array([])\n",
    "        self.test_data = np.array([])\n",
    "        self.test_label = np.array([])\n",
    "        self.test_label_one_hot = np.array([])\n",
    "        self.shuffle_train_order = np.array([])\n",
    "        self.shuffle_test_order = np.array([])\n",
    "        \n",
    "    def load_data(self, flag_From_Pickle = True, flag_normalize = False, flag_Debug = True):\n",
    "        ''' \n",
    "            Load MNIST data from MNIST_data_path\n",
    "            \n",
    "            Flags:\n",
    "            - flag_From_Pickle: try to load data from pickle file, else from csv\n",
    "            - flag_normalize: load data from csv, with normalization\n",
    "            - flag_Debug: print some debug message\n",
    "            \n",
    "            Logic:            \n",
    "            - If failed, return false\n",
    "              Else return true\n",
    "        '''\n",
    "        flag_okay = False\n",
    "        \n",
    "        #-- Load from pickle -------------------------------------------------------\n",
    "        if flag_From_Pickle:\n",
    "            if not(os.path.isfile(\"%s\" % self.data_path + \"pickled_mnist.pkl\")):\n",
    "                print(\"File not found:%s\" % self.data_path + \"pickled_mnist.pkl\")\n",
    "                print(\"solution: Try open with csv file\")\n",
    "            else:\n",
    "                if flag_Debug:\n",
    "                    print(\"data loading from pickle...\")\n",
    "                with open(\"%s\" % self.data_path + \"pickled_mnist.pkl\", \"r\") as fh:\n",
    "                    data = pickle.load(fh)\n",
    "                self.train_data = data[0]\n",
    "                self.test_data = data[1]\n",
    "                self.train_label = data[2]\n",
    "                self.test_label = data[3]\n",
    "                self.train_label_one_hot = data[4]\n",
    "                self.test_label_one_hot = data[5]\n",
    "                flag_okay = True\n",
    "                return flag_okay\n",
    "\n",
    "        #-- Load from csv file -----------------------------------------------------   \n",
    "        if not(os.path.isfile('%s' % self.data_path + \"mnist_train.csv\")):\n",
    "            print(\"File not found:%s\" % self.data_path + \"mnist_train.csv\")\n",
    "            flag_okay = False\n",
    "            return flag_okay\n",
    "        if not(os.path.isfile('%s' % self.data_path + \"mnist_train.csv\")):\n",
    "            print(\"File not found:%s\" % self.data_path + \"mnist_train.csv\")\n",
    "            if_okay = False\n",
    "            return flag_okay\n",
    "        \n",
    "        if flag_Debug:\n",
    "            print(\"Data Loading: Train\")\n",
    "        train_data = np.loadtxt(data_path + \"mnist_train.csv\", \n",
    "                        delimiter=\",\")\n",
    "        if flag_Debug:\n",
    "            print(\"Data Loading: Test\")\n",
    "        test_data = np.loadtxt(data_path + \"mnist_test.csv\", \n",
    "                       delimiter=\",\") \n",
    "        if flag_Debug:\n",
    "            print(\"Data Normalizing: transfer into [0,1]\")\n",
    "        fac = 255  *0.99 + 0.01\n",
    "        self.train_data = np.asfarray(train_data[:, 1:]) / fac \n",
    "        self.test_data = np.asfarray(test_data[:, 1:]) / fac \n",
    "        self.train_label = np.asfarray(train_data[:, :1]) \n",
    "        self.test_label = np.asfarray(test_data[:, :1]) \n",
    "        \n",
    "        lr = np.arange(no_of_different_labels)\n",
    "        # transform labels into one hot representation\n",
    "        train_label_one_hot = (lr==train_labels).astype(np.float)\n",
    "        train_label_one_hot = (lr==test_labels).astype(np.float)\n",
    "        # we don't want zeroes and ones in the labels neither:\n",
    "        \n",
    "        if flag_normalize:\n",
    "            train_label_one_hot[train_label_one_hot==0] = 0.01\n",
    "            train_label_one_hot[train_label_one_hot==1] = 0.99\n",
    "            test_label_one_hot[test_label_one_hot==0] = 0.01\n",
    "            test_label_one_hot[test_label_one_hot==1] = 0.99\n",
    "\n",
    "        self.train_label_one_hot = train_label_one_hot\n",
    "        self.test_label_one_hot = test_label_one_hot\n",
    "        \n",
    "        flag_okay = True\n",
    "        return flag_okay\n",
    "    \n",
    "    def shuffle_data(self):\n",
    "        self.shuffle_train_order = np.arange(len(self.train_data))\n",
    "        self.shuffle_test_order = np.arange(len(self.test_data))\n",
    "        np.random.seed(self.randseed)\n",
    "        np.random.shuffle(self.shuffle_train_order)\n",
    "        np.random.seed(self.randseed)\n",
    "        np.random.shuffle(self.shuffle_test_order)\n",
    "        \n",
    "        self.train_data = self.train_data[self.shuffle_train_order] \n",
    "        self.train_label = self.train_label[self.shuffle_train_order]\n",
    "        self.test_data = self.test_data[self.shuffle_test_order]\n",
    "        self.test_label = self.test_label[self.shuffle_test_order]\n",
    "        self.train_label_one_hot = self.train_label_one_hot[self.shuffle_train_order]\n",
    "        self.test_label_one_hot = self.test_label_one_hot[self.shuffle_test_order]\n",
    "        return True\n",
    "        \n",
    "    def get_data_nparray(self):\n",
    "        return [self.train_data, self.train_label, \n",
    "                self.test_data, self.test_label, \n",
    "                self.train_label_one_hot, self.test_label_one_hot]\n",
    "\n",
    "\n",
    "    def displayID(self, data_type ='train', data_id=0):\n",
    "        if data_type == 'train':\n",
    "            if len(self.train_data)<=data_id:\n",
    "                print(\"Data-ID not found in Train-set!\")\n",
    "                return False\n",
    "            img = self.train_data[data_id]\n",
    "            label = self.train_label[data_id]\n",
    "            one_hot = self.train_label_one_hot\n",
    "        elif data_type == 'test':\n",
    "            if len(self.test_data)<=data_id:\n",
    "                print(\"Data-ID not found in Test-set!\")\n",
    "                return False\n",
    "            img = self.test_data[data_id]\n",
    "            label = self.test_label[data_id]\n",
    "            one_hot = self.test_label_one_hot\n",
    "        else:\n",
    "            print(\"Unknown Data Type!\")\n",
    "            return False\n",
    "        img = img.reshape((28,28))\n",
    "        plt.imshow(img, cmap=\"Greys\")\n",
    "        plt.show()\n",
    "        print(label)\n",
    "        print(one_hot)\n",
    "        \n",
    "        return True"
   ]
  },
  {
   "cell_type": "code",
   "execution_count": 106,
   "metadata": {},
   "outputs": [
    {
     "ename": "NameError",
     "evalue": "name 'DataHandler' is not defined",
     "output_type": "error",
     "traceback": [
      "\u001b[0;31m---------------------------------------------------------------------------\u001b[0m",
      "\u001b[0;31mNameError\u001b[0m                                 Traceback (most recent call last)",
      "\u001b[0;32m<ipython-input-106-d55a8f84e1e9>\u001b[0m in \u001b[0;36m<module>\u001b[0;34m()\u001b[0m\n\u001b[0;32m----> 1\u001b[0;31m \u001b[0mdh\u001b[0m \u001b[0;34m=\u001b[0m \u001b[0mDataHandler\u001b[0m\u001b[0;34m(\u001b[0m\u001b[0;34m)\u001b[0m\u001b[0;34m\u001b[0m\u001b[0m\n\u001b[0m\u001b[1;32m      2\u001b[0m \u001b[0mdh\u001b[0m\u001b[0;34m.\u001b[0m\u001b[0mload_data\u001b[0m\u001b[0;34m(\u001b[0m\u001b[0;34m)\u001b[0m\u001b[0;34m\u001b[0m\u001b[0m\n\u001b[1;32m      3\u001b[0m \u001b[0mdh\u001b[0m\u001b[0;34m.\u001b[0m\u001b[0mshuffle_data\u001b[0m\u001b[0;34m(\u001b[0m\u001b[0;34m)\u001b[0m\u001b[0;34m\u001b[0m\u001b[0m\n\u001b[1;32m      4\u001b[0m \u001b[0mtrain_data\u001b[0m\u001b[0;34m,\u001b[0m \u001b[0mtrain_label\u001b[0m\u001b[0;34m,\u001b[0m \u001b[0mtest_data\u001b[0m\u001b[0;34m,\u001b[0m \u001b[0mtest_label\u001b[0m\u001b[0;34m,\u001b[0m \u001b[0mtrain_one_hot\u001b[0m\u001b[0;34m,\u001b[0m \u001b[0mtest_one_hot\u001b[0m \u001b[0;34m=\u001b[0m \u001b[0mdh\u001b[0m\u001b[0;34m.\u001b[0m\u001b[0mget_data_nparray\u001b[0m\u001b[0;34m(\u001b[0m\u001b[0;34m)\u001b[0m\u001b[0;34m\u001b[0m\u001b[0m\n\u001b[1;32m      5\u001b[0m \u001b[0mdh\u001b[0m\u001b[0;34m.\u001b[0m\u001b[0mdisplayID\u001b[0m\u001b[0;34m(\u001b[0m\u001b[0;34m'train'\u001b[0m\u001b[0;34m,\u001b[0m \u001b[0;36m2\u001b[0m\u001b[0;34m)\u001b[0m\u001b[0;34m\u001b[0m\u001b[0m\n",
      "\u001b[0;31mNameError\u001b[0m: name 'DataHandler' is not defined"
     ]
    }
   ],
   "source": [
    "dh = DataHandler()\n",
    "dh.load_data()\n",
    "dh.shuffle_data()\n",
    "train_data, train_label, test_data, test_label, train_one_hot, test_one_hot = dh.get_data_nparray()\n",
    "dh.displayID('train', 2)"
   ]
  },
  {
   "cell_type": "code",
   "execution_count": 33,
   "metadata": {},
   "outputs": [],
   "source": []
  }
 ],
 "metadata": {
  "kernelspec": {
   "display_name": "Python 2",
   "language": "python",
   "name": "python2"
  },
  "language_info": {
   "codemirror_mode": {
    "name": "ipython",
    "version": 2
   },
   "file_extension": ".py",
   "mimetype": "text/x-python",
   "name": "python",
   "nbconvert_exporter": "python",
   "pygments_lexer": "ipython2",
   "version": "2.7.15rc1"
  }
 },
 "nbformat": 4,
 "nbformat_minor": 2
}
