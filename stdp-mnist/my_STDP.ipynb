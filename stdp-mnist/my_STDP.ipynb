{
 "cells": [
  {
   "cell_type": "markdown",
   "metadata": {},
   "source": [
    "# STDP - MNIST\n",
    "#### Coder: Janilbols\n",
    "#### Create Date: 21.Nov.2018\n",
    "#### Last Edit Date: 21.Nov.2018\n",
    "#### Description: \n",
    "    This is the first edition of STDP-MNIST. Using STDP as training logic, and MNIST as test case.\n",
    "\n",
    "#### TODO:\n",
    "\n",
    "1. Script for (init) build up Neural Net\n",
    "2. Functions for generate current, based on input\n",
    "3. Script (loop) for stimulation\n",
    "4. Functions for evaluation\n",
    "5. Script for plotting\n",
    "\n",
    "#### Further Work:\n",
    "\n",
    "1. Packup the function as toolkit\n",
    "2. Clear up the script"
   ]
  },
  {
   "cell_type": "code",
   "execution_count": 1,
   "metadata": {},
   "outputs": [],
   "source": [
    "from math import exp\n",
    "import numpy\n",
    "import neo\n",
    "from quantities import ms\n",
    "from pyNN.utility import get_simulator, init_logging, normalized_filename\n",
    "from pyNN.utility.plotting import DataTable\n",
    "from pyNN.parameters import Sequence\n",
    "from importlib import import_module"
   ]
  },
  {
   "cell_type": "markdown",
   "metadata": {},
   "source": [
    "## === simulator para & options ===\n"
   ]
  },
  {
   "cell_type": "code",
   "execution_count": 2,
   "metadata": {},
   "outputs": [],
   "source": [
    "op_simulator = \"neuron\"\n",
    "op_debug = False\n",
    "op_dendritic_delay_fraction = False\n",
    "op_fit_curve = False\n",
    "op_plot_figure = True"
   ]
  },
  {
   "cell_type": "markdown",
   "metadata": {},
   "source": [
    "## === Parameters ==="
   ]
  },
  {
   "cell_type": "code",
   "execution_count": 3,
   "metadata": {},
   "outputs": [],
   "source": [
    "firing_period = 100.0    # (ms) interval between spikes\n",
    "cell_parameters = {\n",
    "    \"tau_m\": 10.0,       # (ms)\n",
    "    \"v_thresh\": -50.0,   # (mV)\n",
    "    \"v_reset\": -60.0,    # (mV)\n",
    "    \"v_rest\": -60.0,     # (mV)\n",
    "    \"cm\": 1.0,           # (nF)\n",
    "    \"tau_refrac\": firing_period / 2,  # (ms) long refractory period to prevent bursting\n",
    "}\n",
    "n = 60                  # number of synapses / number of presynaptic neurons\n",
    "delta_t = 1.0            # (ms) time difference between the firing times of neighbouring neurons\n",
    "t_stop = 10 * firing_period + n * delta_t\n",
    "delay = 0.01              # (ms) synaptic time delay, default=3.0"
   ]
  },
  {
   "cell_type": "markdown",
   "metadata": {},
   "source": [
    "## === Configure the simulator ==="
   ]
  },
  {
   "cell_type": "code",
   "execution_count": 4,
   "metadata": {},
   "outputs": [
    {
     "data": {
      "text/plain": [
       "0"
      ]
     },
     "execution_count": 4,
     "metadata": {},
     "output_type": "execute_result"
    }
   ],
   "source": [
    "sim = import_module(\"pyNN.\"+op_simulator)\n",
    "\n",
    "if op_debug: \n",
    "    init_logging(None, debug=True)\n",
    "\n",
    "sim.setup(timestep=0.01, min_delay=delay, max_delay=delay)"
   ]
  },
  {
   "cell_type": "code",
   "execution_count": 15,
   "metadata": {},
   "outputs": [
    {
     "name": "stdout",
     "output_type": "stream",
     "text": [
      "[ 70. 170. 270. 370. 470. 570. 670. 770. 870. 970.]\n",
      "[ 71. 171. 271. 371. 471. 571. 671. 771. 871. 971.]\n",
      "[ 72. 172. 272. 372. 472. 572. 672. 772. 872. 972.]\n",
      "[ 73. 173. 273. 373. 473. 573. 673. 773. 873. 973.]\n",
      "[ 74. 174. 274. 374. 474. 574. 674. 774. 874. 974.]\n",
      "[ 75. 175. 275. 375. 475. 575. 675. 775. 875. 975.]\n",
      "[ 76. 176. 276. 376. 476. 576. 676. 776. 876. 976.]\n",
      "[ 77. 177. 277. 377. 477. 577. 677. 777. 877. 977.]\n",
      "[ 78. 178. 278. 378. 478. 578. 678. 778. 878. 978.]\n",
      "[ 79. 179. 279. 379. 479. 579. 679. 779. 879. 979.]\n",
      "[ 80. 180. 280. 380. 480. 580. 680. 780. 880. 980.]\n",
      "[ 81. 181. 281. 381. 481. 581. 681. 781. 881. 981.]\n",
      "[ 82. 182. 282. 382. 482. 582. 682. 782. 882. 982.]\n",
      "[ 83. 183. 283. 383. 483. 583. 683. 783. 883. 983.]\n",
      "[ 84. 184. 284. 384. 484. 584. 684. 784. 884. 984.]\n",
      "[ 85. 185. 285. 385. 485. 585. 685. 785. 885. 985.]\n",
      "[ 86. 186. 286. 386. 486. 586. 686. 786. 886. 986.]\n",
      "[ 87. 187. 287. 387. 487. 587. 687. 787. 887. 987.]\n",
      "[ 88. 188. 288. 388. 488. 588. 688. 788. 888. 988.]\n",
      "[ 89. 189. 289. 389. 489. 589. 689. 789. 889. 989.]\n",
      "[ 90. 190. 290. 390. 490. 590. 690. 790. 890. 990.]\n",
      "[ 91. 191. 291. 391. 491. 591. 691. 791. 891. 991.]\n",
      "[ 92. 192. 292. 392. 492. 592. 692. 792. 892. 992.]\n",
      "[ 93. 193. 293. 393. 493. 593. 693. 793. 893. 993.]\n",
      "[ 94. 194. 294. 394. 494. 594. 694. 794. 894. 994.]\n",
      "[ 95. 195. 295. 395. 495. 595. 695. 795. 895. 995.]\n",
      "[ 96. 196. 296. 396. 496. 596. 696. 796. 896. 996.]\n",
      "[ 97. 197. 297. 397. 497. 597. 697. 797. 897. 997.]\n",
      "[ 98. 198. 298. 398. 498. 598. 698. 798. 898. 998.]\n",
      "[ 99. 199. 299. 399. 499. 599. 699. 799. 899. 999.]\n",
      "[ 100.  200.  300.  400.  500.  600.  700.  800.  900. 1000.]\n",
      "[ 101.  201.  301.  401.  501.  601.  701.  801.  901. 1001.]\n",
      "[ 102.  202.  302.  402.  502.  602.  702.  802.  902. 1002.]\n",
      "[ 103.  203.  303.  403.  503.  603.  703.  803.  903. 1003.]\n",
      "[ 104.  204.  304.  404.  504.  604.  704.  804.  904. 1004.]\n",
      "[ 105.  205.  305.  405.  505.  605.  705.  805.  905. 1005.]\n",
      "[ 106.  206.  306.  406.  506.  606.  706.  806.  906. 1006.]\n",
      "[ 107.  207.  307.  407.  507.  607.  707.  807.  907. 1007.]\n",
      "[ 108.  208.  308.  408.  508.  608.  708.  808.  908. 1008.]\n",
      "[ 109.  209.  309.  409.  509.  609.  709.  809.  909. 1009.]\n",
      "[ 110.  210.  310.  410.  510.  610.  710.  810.  910. 1010.]\n",
      "[ 111.  211.  311.  411.  511.  611.  711.  811.  911. 1011.]\n",
      "[ 112.  212.  312.  412.  512.  612.  712.  812.  912. 1012.]\n",
      "[ 113.  213.  313.  413.  513.  613.  713.  813.  913. 1013.]\n",
      "[ 114.  214.  314.  414.  514.  614.  714.  814.  914. 1014.]\n",
      "[ 115.  215.  315.  415.  515.  615.  715.  815.  915. 1015.]\n",
      "[ 116.  216.  316.  416.  516.  616.  716.  816.  916. 1016.]\n",
      "[ 117.  217.  317.  417.  517.  617.  717.  817.  917. 1017.]\n",
      "[ 118.  218.  318.  418.  518.  618.  718.  818.  918. 1018.]\n",
      "[ 119.  219.  319.  419.  519.  619.  719.  819.  919. 1019.]\n",
      "[ 120.  220.  320.  420.  520.  620.  720.  820.  920. 1020.]\n",
      "[ 121.  221.  321.  421.  521.  621.  721.  821.  921. 1021.]\n",
      "[ 122.  222.  322.  422.  522.  622.  722.  822.  922. 1022.]\n",
      "[ 123.  223.  323.  423.  523.  623.  723.  823.  923. 1023.]\n",
      "[ 124.  224.  324.  424.  524.  624.  724.  824.  924. 1024.]\n",
      "[ 125.  225.  325.  425.  525.  625.  725.  825.  925. 1025.]\n",
      "[ 126.  226.  326.  426.  526.  626.  726.  826.  926. 1026.]\n",
      "[ 127.  227.  327.  427.  527.  627.  727.  827.  927. 1027.]\n",
      "[ 128.  228.  328.  428.  528.  628.  728.  828.  928. 1028.]\n",
      "[ 129.  229.  329.  429.  529.  629.  729.  829.  929. 1029.]\n"
     ]
    }
   ],
   "source": [
    "for i in range(n):\n",
    "    j = (i - n // 2)\n",
    "    print numpy.arange(firing_period + j * delta_t, t_stop, firing_period)\n"
   ]
  },
  {
   "cell_type": "markdown",
   "metadata": {},
   "source": [
    "## === Build the network ==="
   ]
  },
  {
   "cell_type": "code",
   "execution_count": 14,
   "metadata": {},
   "outputs": [],
   "source": [
    "def build_spike_sequences(period, duration, n, delta_t):\n",
    "    \"\"\"\n",
    "    Return a spike time generator for `n` neurons (spike sources), where\n",
    "    all neurons fire with the same period, but neighbouring neurons have a relative\n",
    "    firing time difference of `delta_t`.\n",
    "    \"\"\"\n",
    "    def spike_time_gen(i):\n",
    "        \"\"\"Spike time generator. `i` should be an array of indices.\"\"\"\n",
    "        return [Sequence(numpy.arange(period + j * delta_t, duration, period)) for j in (i - n // 2)]\n",
    "    return spike_time_gen\n",
    "\n",
    "spike_sequence_generator = build_spike_sequences(firing_period, t_stop, n, delta_t)\n",
    "# presynaptic population\n",
    "p_in = sim.Population(n, sim.SpikeSourceArray(spike_times=spike_sequence_generator),\n",
    "                    label=\"presynaptic\")\n",
    "# single postsynaptic neuron\n",
    "p_mid_1 = sim.Population(60, sim.IF_cond_exp(**cell_parameters),\n",
    "                    initial_values={\"v\": cell_parameters[\"v_reset\"]}, label=\"postsynaptic_1\")\n",
    "p_mid_2 = sim.Population(1, sim.IF_cond_exp(**cell_parameters),\n",
    "                    initial_values={\"v\": cell_parameters[\"v_reset\"]}, label=\"postsynaptic_2\")\n",
    "# drive to the postsynaptic neuron, ensuring it fires at exact multiples of the firing period\n",
    "p_out = sim.Population(1, sim.SpikeSourceArray(spike_times=numpy.arange(firing_period - delay, t_stop, firing_period)),\n",
    "                    label=\"driver\")\n",
    "\n",
    "# we set the initial weights to be very small, to avoid perturbing the firing times of the\n",
    "# postsynaptic neurons\n",
    "stdp_model = sim.STDPMechanism(\n",
    "                timing_dependence=sim.SpikePairRule(tau_plus=20.0, tau_minus=20.0,\n",
    "                                                    A_plus=0.01, A_minus=0.012),\n",
    "                weight_dependence=sim.AdditiveWeightDependence(w_min=0, w_max=0.0000001),\n",
    "                weight=0.00000005,\n",
    "                delay=delay,\n",
    "                dendritic_delay_fraction=float(op_dendritic_delay_fraction))\n",
    "connections_1 = sim.Projection(p_in, p_mid_1, sim.OneToOneConnector(), \n",
    "                               sim.StaticSynapse(weight=10.0, delay=delay))\n",
    "connections_2 = sim.Projection(p_mid_1, p_mid_2, sim.AllToAllConnector(), stdp_model)\n",
    "\n",
    "# the connection weight from the driver neuron is very strong, to ensure the\n",
    "# postsynaptic neuron fires at the correct times\n",
    "\n",
    "driver_connection = sim.Projection(p_out, p_mid_2, sim.OneToOneConnector(), # sim.AllToAllConnector(),#\n",
    "                                   sim.StaticSynapse(weight=10.0, delay=delay))\n"
   ]
  },
  {
   "cell_type": "markdown",
   "metadata": {},
   "source": [
    "## == Instrument the network ==="
   ]
  },
  {
   "cell_type": "code",
   "execution_count": 6,
   "metadata": {},
   "outputs": [],
   "source": [
    "p_in.record('spikes')\n",
    "p_mid_1.record(['spikes', 'v'])\n",
    "p_mid_2.record(['spikes', 'v'])\n",
    "\n",
    "\n",
    "class WeightRecorder(object):\n",
    "    \"\"\"\n",
    "    Recording of weights is not yet built in to PyNN, so therefore we need\n",
    "    to construct a callback object, which reads the current weights from\n",
    "    the projection at regular intervals.\n",
    "    \"\"\"\n",
    "\n",
    "    def __init__(self, sampling_interval, projection):\n",
    "        self.interval = sampling_interval\n",
    "        self.projection = projection\n",
    "        self._weights = []\n",
    "\n",
    "    def __call__(self, t):\n",
    "        self._weights.append(self.projection.get('weight', format='list', with_address=False))\n",
    "        return t + self.interval\n",
    "\n",
    "    def get_weights(self):\n",
    "        signal = neo.AnalogSignal(self._weights, units='nA', sampling_period=self.interval * ms,\n",
    "                                  name=\"weight\")\n",
    "        signal.channel_index = neo.ChannelIndex(numpy.arange(len(self._weights[0])))\n",
    "        return signal\n",
    "\n",
    "weight_recorder_1 = WeightRecorder(sampling_interval=1.0, projection=connections_1)\n",
    "weight_recorder_2 = WeightRecorder(sampling_interval=1.0, projection=connections_2)\n"
   ]
  },
  {
   "cell_type": "markdown",
   "metadata": {},
   "source": [
    "## === Run the simulation ==="
   ]
  },
  {
   "cell_type": "code",
   "execution_count": 7,
   "metadata": {},
   "outputs": [
    {
     "data": {
      "text/plain": [
       "109.99999999997245"
      ]
     },
     "execution_count": 7,
     "metadata": {},
     "output_type": "execute_result"
    }
   ],
   "source": [
    "sim.run(t_stop, callbacks=[weight_recorder_1,weight_recorder_2]) #"
   ]
  },
  {
   "cell_type": "code",
   "execution_count": 8,
   "metadata": {},
   "outputs": [
    {
     "name": "stdout",
     "output_type": "stream",
     "text": [
      "Post-synaptic 1 spike times: [70.03] ms\n",
      "Post-synaptic 2 spike times: [100.02] ms\n",
      "Final weights - 1: [10. 10. 10. 10. 10. 10. 10. 10. 10. 10. 10. 10. 10. 10. 10. 10. 10. 10.\n",
      " 10. 10. 10. 10. 10. 10. 10. 10. 10. 10. 10. 10. 10. 10. 10. 10. 10. 10.\n",
      " 10. 10. 10. 10. 10. 10. 10. 10. 10. 10. 10. 10. 10. 10. 10. 10. 10. 10.\n",
      " 10. 10. 10. 10. 10. 10.]\n",
      "\n",
      "\n",
      "Final weights - 2: [5.00000000e-08 5.00000000e-08 5.00000000e-08 5.00000000e-08\n",
      " 5.00000000e-08 5.00000000e-08 5.00000000e-08 5.00000000e-08\n",
      " 5.00000000e-08 5.00000000e-08 5.00000000e-08 5.00000000e-08\n",
      " 5.00000000e-08 5.00000000e-08 5.00000000e-08 5.00000000e-08\n",
      " 5.00000000e-08 5.00000000e-08 5.00000000e-08 5.00000000e-08\n",
      " 5.00000000e-08 5.00000000e-08 5.00000000e-08 5.00000000e-08\n",
      " 5.00000000e-08 5.00000000e-08 5.00000000e-08 5.00000000e-08\n",
      " 5.00000000e-08 5.00000000e-08 4.88011994e-08 4.88596656e-08\n",
      " 4.89152804e-08 4.89681828e-08 4.90185051e-08 4.90663732e-08\n",
      " 4.91119067e-08 4.91552195e-08 4.91964199e-08 4.92356110e-08\n",
      " 5.00000000e-08 5.00000000e-08 5.00000000e-08 5.00000000e-08\n",
      " 5.00000000e-08 5.00000000e-08 5.00000000e-08 5.00000000e-08\n",
      " 5.00000000e-08 5.00000000e-08 5.00000000e-08 5.00000000e-08\n",
      " 5.00000000e-08 5.00000000e-08 5.00000000e-08 5.00000000e-08\n",
      " 5.00000000e-08 5.00000000e-08 5.00000000e-08 5.00000000e-08]\n",
      "\n",
      "\n"
     ]
    }
   ],
   "source": [
    "# === Save the results =============================\n",
    "\n",
    "filename = normalized_filename(\"Results\", \"hello_stdp\", \"pkl\", op_simulator)\n",
    "p_mid_2.write_data(filename, annotations={'script_name': \"Janilbols - PyNN - Test\"})\n",
    "\n",
    "presynaptic_data = p_in.get_data().segments[0]\n",
    "postsynaptic_data_1 = p_mid_1.get_data().segments[0]\n",
    "postsynaptic_data_2 = p_mid_2.get_data().segments[0]\n",
    "\n",
    "print(\"Post-synaptic 1 spike times: %s\" % postsynaptic_data_1.spiketrains[0])\n",
    "print(\"Post-synaptic 2 spike times: %s\" % postsynaptic_data_2.spiketrains[0])\n",
    "\n",
    "weights_1 = weight_recorder_1.get_weights()\n",
    "weights_2 = weight_recorder_2.get_weights()\n",
    "final_weights_1 = numpy.array(weights_1[-1])\n",
    "final_weights_2 = numpy.array(weights_2[-1])\n",
    "deltas_1 = delta_t * numpy.arange(n // 2, -n // 2, -1)\n",
    "print(\"Final weights - 1: %s\\n\\n\" % final_weights_1)\n",
    "deltas_2 = delta_t * numpy.arange(n // 2, -n // 2, -1)\n",
    "print(\"Final weights - 2: %s\\n\\n\" % final_weights_2)\n",
    "plasticity_data_1 = DataTable(deltas_1, final_weights_1)\n",
    "plasticity_data_2 = DataTable(deltas_2, final_weights_2)"
   ]
  },
  {
   "cell_type": "code",
   "execution_count": 9,
   "metadata": {},
   "outputs": [],
   "source": [
    "## === optionally plot a figure ==="
   ]
  },
  {
   "cell_type": "code",
   "execution_count": 10,
   "metadata": {},
   "outputs": [
    {
     "name": "stdout",
     "output_type": "stream",
     "text": [
      "Results/20181121/hello_stdp_neuron_20181121-105428.png\n"
     ]
    },
    {
     "data": {
      "image/png": "[encoded data removed]",
      "text/plain": [
       "<Figure size 432x1094.4 with 7 Axes>"
      ]
     },
     "metadata": {
      "needs_background": "light"
     },
     "output_type": "display_data"
    }
   ],
   "source": [
    "\n",
    "if op_fit_curve:\n",
    "    def double_exponential(t, t0, w0, wp, wn, tau):\n",
    "        return w0 + numpy.where(t >= t0, wp * numpy.exp(-(t - t0) / tau), wn * numpy.exp((t - t0) / tau))\n",
    "    p0 = (-1.0, 5e-8, 1e-8, -1.2e-8, 20.0)\n",
    "    popt, pcov = plasticity_data.fit_curve(double_exponential, p0, ftol=1e-10)\n",
    "    print(\"Best fit parameters: t0={0}, w0={1}, wp={2}, wn={3}, tau={4}\".format(*popt))\n",
    "\n",
    "\n",
    "if op_plot_figure:\n",
    "    from pyNN.utility.plotting import Figure, Panel, DataTable\n",
    "    figure_filename = filename.replace(\"pkl\", \"png\")\n",
    "    Figure(\n",
    "        # raster plot of the presynaptic neuron spike times\n",
    "        Panel(presynaptic_data.spiketrains,\n",
    "              yticks=True, markersize=0.2, xlim=(0, t_stop)),\n",
    "        # membrane potential of the postsynaptic neuron 1\n",
    "        Panel(postsynaptic_data_1.filter(name='v')[0],\n",
    "              ylabel=\"Membrane-1 potential (mV)\",\n",
    "              data_labels=[p_mid_1.label], yticks=True, xlim=(0, t_stop)),\n",
    "        # membrane potential of the postsynaptic neuron 1\n",
    "        Panel(postsynaptic_data_2.filter(name='v')[0],\n",
    "              ylabel=\"Membrane-1 potential (mV)\",\n",
    "              data_labels=[p_mid_2.label], yticks=True, xlim=(0, t_stop)),\n",
    "        # evolution of the synaptic weights with time\n",
    "        Panel(weights_1, xticks=True, yticks=True, xlabel=\"Time (ms)\",\n",
    "              legend=False, xlim=(0, t_stop)),\n",
    "        # evolution of the synaptic weights with time\n",
    "        Panel(weights_2, xticks=True, yticks=True, xlabel=\"Time (ms)\",\n",
    "              legend=False, xlim=(0, t_stop)),\n",
    "        # scatterplot of the final weight of each synapse against the relative\n",
    "        # timing of pre- and postsynaptic spikes for that synapse\n",
    "        Panel(plasticity_data_1,  \n",
    "              xticks=True, yticks=True, xlim=(-n / 2 * delta_t, n / 2 * delta_t),\n",
    "              ylim=(0.9 * final_weights_1.min(), 1.1 * final_weights_1.max()),\n",
    "              xlabel=\"t_post - t_pre (ms)\", ylabel=\"Final weight (nA)\",\n",
    "              show_fit=op_fit_curve),\n",
    "        Panel(plasticity_data_2,  \n",
    "              xticks=True, yticks=True, xlim=(-n / 2 * delta_t, n / 2 * delta_t),\n",
    "              ylim=(0.9 * final_weights_2.min(), 1.1 * final_weights_2.max()),\n",
    "              xlabel=\"t_post - t_pre (ms)\", ylabel=\"Final weight (nA)\",\n",
    "              show_fit=op_fit_curve),\n",
    "        title=\"Hello STDP example\",\n",
    "        annotations=\"Simulated with %s\" % op_simulator.upper()\n",
    "    ).save(figure_filename)\n",
    "    print(figure_filename)\n"
   ]
  },
  {
   "cell_type": "code",
   "execution_count": 11,
   "metadata": {},
   "outputs": [],
   "source": [
    "# === Clean up and quit ========================================================\n",
    "sim.end()"
   ]
  },
  {
   "cell_type": "code",
   "execution_count": null,
   "metadata": {},
   "outputs": [],
   "source": []
  },
  {
   "cell_type": "code",
   "execution_count": 4,
   "metadata": {},
   "outputs": [],
   "source": [
    "# === Toolkit Usage ============================================================\n",
    "%matplotlib inline\n",
    "from data_handler import *"
   ]
  },
  {
   "cell_type": "code",
   "execution_count": 5,
   "metadata": {},
   "outputs": [],
   "source": [
    "dh = DataHandler(randseed=19023895)\n",
    "dh.load_data()\n",
    "dh.shuffle_data()\n",
    "train_data, train_label, test_data, test_label, train_one_hot, test_one_hot = dh.get_data_nparray()\n",
    "dh.displayID('train', 2)"
   ]
  }
 ],
 "metadata": {
  "kernelspec": {
   "display_name": "Python 2",
   "language": "python",
   "name": "python2"
  },
  "language_info": {
   "codemirror_mode": {
    "name": "ipython",
    "version": 2
   },
   "file_extension": ".py",
   "mimetype": "text/x-python",
   "name": "python",
   "nbconvert_exporter": "python",
   "pygments_lexer": "ipython2",
   "version": "2.7.15rc1"
  }
 },
 "nbformat": 4,
 "nbformat_minor": 2
}
