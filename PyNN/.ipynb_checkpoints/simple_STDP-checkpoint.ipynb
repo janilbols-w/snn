{
 "cells": [
  {
   "cell_type": "code",
   "execution_count": 3,
   "metadata": {},
   "outputs": [],
   "source": [
    "# encoding: utf8\n",
    "\"\"\"\n",
    "A very simple example of using STDP.\n",
    "\n",
    "A single postsynaptic neuron fires at a constant rate. We connect several\n",
    "presynaptic neurons to it, each of which fires spikes with a fixed time\n",
    "lag or time advance with respect to the postsynaptic neuron.\n",
    "The weights of these connections are very small, so they will not\n",
    "significantly affect the firing times of the post-synaptic neuron.\n",
    "We plot the amount of potentiation or depression of each synapse as a\n",
    "function of the time difference.\n",
    "\n",
    "\"\"\"\n",
    "# Coder: Janilbols Wong\n",
    "# Edit from example simple_STDP.py\n",
    "\n",
    "from __future__ import division\n",
    "from math import exp\n",
    "import numpy\n",
    "import neo\n",
    "from quantities import ms\n",
    "from pyNN.utility import get_simulator, init_logging, normalized_filename\n",
    "from pyNN.utility.plotting import DataTable\n",
    "from pyNN.parameters import Sequence\n",
    "from importlib import import_module"
   ]
  },
  {
   "cell_type": "markdown",
   "metadata": {},
   "source": [
    "## === simulator para & options ===\n"
   ]
  },
  {
   "cell_type": "code",
   "execution_count": 4,
   "metadata": {},
   "outputs": [],
   "source": [
    "op_simulator = \"neuron\"\n",
    "op_debug = False\n",
    "op_dendritic_delay_fraction = False\n",
    "op_fit_curve = False\n",
    "op_plot_figure = True"
   ]
  },
  {
   "cell_type": "markdown",
   "metadata": {},
   "source": [
    "## === Parameters ==="
   ]
  },
  {
   "cell_type": "code",
   "execution_count": 5,
   "metadata": {},
   "outputs": [],
   "source": [
    "firing_period = 100.0    # (ms) interval between spikes\n",
    "cell_parameters = {\n",
    "    \"tau_m\": 10.0,       # (ms)\n",
    "    \"v_thresh\": -50.0,   # (mV)\n",
    "    \"v_reset\": -60.0,    # (mV)\n",
    "    \"v_rest\": -60.0,     # (mV)\n",
    "    \"cm\": 1.0,           # (nF)\n",
    "    \"tau_refrac\": firing_period / 2,  # (ms) long refractory period to prevent bursting\n",
    "}\n",
    "n = 60                   # number of synapses / number of presynaptic neurons\n",
    "delta_t = 1.0            # (ms) time difference between the firing times of neighbouring neurons\n",
    "t_stop = 10 * firing_period + n * delta_t\n",
    "delay = 0.01              # (ms) synaptic time delay, default=3.0"
   ]
  },
  {
   "cell_type": "markdown",
   "metadata": {},
   "source": [
    "## === Configure the simulator ==="
   ]
  },
  {
   "cell_type": "code",
   "execution_count": 6,
   "metadata": {},
   "outputs": [
    {
     "data": {
      "text/plain": [
       "0"
      ]
     },
     "execution_count": 6,
     "metadata": {},
     "output_type": "execute_result"
    }
   ],
   "source": [
    "sim = import_module(\"pyNN.\"+op_simulator)\n",
    "\n",
    "if op_debug: \n",
    "    init_logging(None, debug=True)\n",
    "\n",
    "sim.setup(timestep=0.01, min_delay=delay, max_delay=delay)"
   ]
  },
  {
   "cell_type": "markdown",
   "metadata": {},
   "source": [
    "## === Build the network ==="
   ]
  },
  {
   "cell_type": "code",
   "execution_count": 7,
   "metadata": {},
   "outputs": [],
   "source": [
    "def build_spike_sequences(period, duration, n, delta_t):\n",
    "    \"\"\"\n",
    "    Return a spike time generator for `n` neurons (spike sources), where\n",
    "    all neurons fire with the same period, but neighbouring neurons have a relative\n",
    "    firing time difference of `delta_t`.\n",
    "    \"\"\"\n",
    "    def spike_time_gen(i):\n",
    "        \"\"\"Spike time generator. `i` should be an array of indices.\"\"\"\n",
    "        return [Sequence(numpy.arange(period + j * delta_t, duration, period)) for j in (i - n // 2)]\n",
    "    return spike_time_gen\n",
    "\n",
    "spike_sequence_generator = build_spike_sequences(firing_period, t_stop, n, delta_t)\n",
    "# presynaptic population\n",
    "p1 = sim.Population(n, sim.SpikeSourceArray(spike_times=spike_sequence_generator),\n",
    "                    label=\"presynaptic\")\n",
    "# single postsynaptic neuron\n",
    "p2 = sim.Population(1, sim.IF_cond_exp(**cell_parameters),\n",
    "                    initial_values={\"v\": cell_parameters[\"v_reset\"]}, label=\"postsynaptic\")\n",
    "# drive to the postsynaptic neuron, ensuring it fires at exact multiples of the firing period\n",
    "p_driver = sim.Population(1, sim.SpikeSourceArray(spike_times=numpy.arange(firing_period - delay, t_stop, firing_period)),\n",
    "                    label=\"driver\")\n",
    "\n",
    "# we set the initial weights to be very small, to avoid perturbing the firing times of the\n",
    "# postsynaptic neurons\n",
    "stdp_model = sim.STDPMechanism(\n",
    "                timing_dependence=sim.SpikePairRule(tau_plus=20.0, tau_minus=20.0,\n",
    "                                                    A_plus=0.01, A_minus=0.012),\n",
    "                weight_dependence=sim.AdditiveWeightDependence(w_min=0, w_max=0.0000001),\n",
    "                weight=0.00000005,\n",
    "                delay=delay,\n",
    "                dendritic_delay_fraction=float(op_dendritic_delay_fraction))\n",
    "connections = sim.Projection(p1, p2, sim.AllToAllConnector(), stdp_model)\n",
    "\n",
    "# the connection weight from the driver neuron is very strong, to ensure the\n",
    "# postsynaptic neuron fires at the correct times\n",
    "driver_connection = sim.Projection(p_driver, p2, sim.OneToOneConnector(),\n",
    "                                   sim.StaticSynapse(weight=10.0, delay=delay))\n"
   ]
  },
  {
   "cell_type": "code",
   "execution_count": 8,
   "metadata": {},
   "outputs": [],
   "source": [
    "# == Instrument the network =================================================\n",
    "\n",
    "p1.record('spikes')\n",
    "p2.record(['spikes', 'v'])\n",
    "\n",
    "\n",
    "class WeightRecorder(object):\n",
    "    \"\"\"\n",
    "    Recording of weights is not yet built in to PyNN, so therefore we need\n",
    "    to construct a callback object, which reads the current weights from\n",
    "    the projection at regular intervals.\n",
    "    \"\"\"\n",
    "\n",
    "    def __init__(self, sampling_interval, projection):\n",
    "        self.interval = sampling_interval\n",
    "        self.projection = projection\n",
    "        self._weights = []\n",
    "\n",
    "    def __call__(self, t):\n",
    "        self._weights.append(self.projection.get('weight', format='list', with_address=False))\n",
    "        return t + self.interval\n",
    "\n",
    "    def get_weights(self):\n",
    "        signal = neo.AnalogSignal(self._weights, units='nA', sampling_period=self.interval * ms,\n",
    "                                  name=\"weight\")\n",
    "        signal.channel_index = neo.ChannelIndex(numpy.arange(len(self._weights[0])))\n",
    "        return signal\n",
    "\n",
    "weight_recorder = WeightRecorder(sampling_interval=1.0, projection=connections)\n"
   ]
  },
  {
   "cell_type": "markdown",
   "metadata": {},
   "source": [
    "## === Run the simulation ==="
   ]
  },
  {
   "cell_type": "code",
   "execution_count": 9,
   "metadata": {},
   "outputs": [
    {
     "data": {
      "text/plain": [
       "1059.999999999927"
      ]
     },
     "execution_count": 9,
     "metadata": {},
     "output_type": "execute_result"
    }
   ],
   "source": [
    "sim.run(t_stop, callbacks=[weight_recorder])"
   ]
  },
  {
   "cell_type": "code",
   "execution_count": 10,
   "metadata": {},
   "outputs": [
    {
     "name": "stdout",
     "output_type": "stream",
     "text": [
      "Post-synaptic spike times: [ 100.02  200.02  300.02  400.02  500.02  600.02  700.02  800.02  900.02\n",
      " 1000.02] ms\n",
      "Final weights: [5.16909997e-08 5.18105388e-08 5.19346053e-08 5.20635093e-08\n",
      " 5.21975731e-08 5.23371320e-08 5.24825349e-08 5.26341455e-08\n",
      " 5.27923428e-08 5.29575224e-08 5.31300974e-08 5.33104992e-08\n",
      " 5.34991790e-08 5.36966086e-08 5.39032816e-08 5.41197149e-08\n",
      " 5.43464496e-08 5.45840527e-08 5.48331183e-08 5.50942692e-08\n",
      " 5.53681585e-08 5.56554709e-08 5.59569250e-08 5.62732745e-08\n",
      " 5.66053104e-08 5.69538630e-08 5.73198040e-08 5.77040482e-08\n",
      " 5.81075566e-08 5.85313381e-08 5.89764524e-08 3.85739681e-08\n",
      " 3.91376352e-08 3.96741408e-08 4.01848262e-08 4.06709687e-08\n",
      " 4.11337837e-08 4.15744286e-08 4.19940051e-08 4.23935625e-08\n",
      " 4.27740998e-08 4.31365686e-08 4.34818752e-08 4.38108832e-08\n",
      " 4.41244151e-08 4.44232550e-08 4.47081502e-08 4.49798129e-08\n",
      " 4.52389226e-08 4.54861271e-08 4.57220446e-08 4.59472649e-08\n",
      " 4.61623513e-08 4.63678416e-08 4.65642496e-08 4.67520665e-08\n",
      " 4.69317618e-08 4.71037849e-08 4.72685659e-08 4.74265170e-08]\n"
     ]
    }
   ],
   "source": [
    "# === Save the results =============================\n",
    "\n",
    "filename = normalized_filename(\"Results\", \"simple_stdp\", \"pkl\", op_simulator)\n",
    "p2.write_data(filename, annotations={'script_name': \"Janilbols - PyNN - Test\"})\n",
    "\n",
    "presynaptic_data = p1.get_data().segments[0]\n",
    "postsynaptic_data = p2.get_data().segments[0]\n",
    "print(\"Post-synaptic spike times: %s\" % postsynaptic_data.spiketrains[0])\n",
    "\n",
    "weights = weight_recorder.get_weights()\n",
    "final_weights = numpy.array(weights[-1])\n",
    "deltas = delta_t * numpy.arange(n // 2, -n // 2, -1)\n",
    "print(\"Final weights: %s\" % final_weights)\n",
    "plasticity_data = DataTable(deltas, final_weights)"
   ]
  },
  {
   "cell_type": "code",
   "execution_count": 11,
   "metadata": {},
   "outputs": [
    {
     "name": "stdout",
     "output_type": "stream",
     "text": [
      "Results/20181115/simple_stdp_neuron_20181115-172110.png\n"
     ]
    },
    {
     "data": {
      "image/png": "[encoded data removed]",
      "text/plain": [
       "<Figure size 432x662.4 with 4 Axes>"
      ]
     },
     "metadata": {
      "needs_background": "light"
     },
     "output_type": "display_data"
    }
   ],
   "source": [
    "# === optionally plot a figure =============================\n",
    "\n",
    "if op_fit_curve:\n",
    "    def double_exponential(t, t0, w0, wp, wn, tau):\n",
    "        return w0 + numpy.where(t >= t0, wp * numpy.exp(-(t - t0) / tau), wn * numpy.exp((t - t0) / tau))\n",
    "    p0 = (-1.0, 5e-8, 1e-8, -1.2e-8, 20.0)\n",
    "    popt, pcov = plasticity_data.fit_curve(double_exponential, p0, ftol=1e-10)\n",
    "    print(\"Best fit parameters: t0={0}, w0={1}, wp={2}, wn={3}, tau={4}\".format(*popt))\n",
    "\n",
    "\n",
    "if op_plot_figure:\n",
    "    from pyNN.utility.plotting import Figure, Panel, DataTable\n",
    "    figure_filename = filename.replace(\"pkl\", \"png\")\n",
    "    Figure(\n",
    "        # raster plot of the presynaptic neuron spike times\n",
    "        Panel(presynaptic_data.spiketrains,\n",
    "              yticks=True, markersize=0.2, xlim=(0, t_stop)),\n",
    "        # membrane potential of the postsynaptic neuron\n",
    "        Panel(postsynaptic_data.filter(name='v')[0],\n",
    "              ylabel=\"Membrane potential (mV)\",\n",
    "              data_labels=[p2.label], yticks=True, xlim=(0, t_stop)),\n",
    "        # evolution of the synaptic weights with time\n",
    "        Panel(weights, xticks=True, yticks=True, xlabel=\"Time (ms)\",\n",
    "              legend=False, xlim=(0, t_stop)),\n",
    "        # scatterplot of the final weight of each synapse against the relative\n",
    "        # timing of pre- and postsynaptic spikes for that synapse\n",
    "        Panel(plasticity_data,  \n",
    "              xticks=True, yticks=True, xlim=(-n / 2 * delta_t, n / 2 * delta_t),\n",
    "              ylim=(0.9 * final_weights.min(), 1.1 * final_weights.max()),\n",
    "              xlabel=\"t_post - t_pre (ms)\", ylabel=\"Final weight (nA)\",\n",
    "              show_fit=op_fit_curve),\n",
    "        title=\"Simple STDP example\",\n",
    "        annotations=\"Simulated with %s\" % op_simulator.upper()\n",
    "    ).save(figure_filename)\n",
    "    print(figure_filename)\n"
   ]
  },
  {
   "cell_type": "code",
   "execution_count": 12,
   "metadata": {},
   "outputs": [],
   "source": [
    "# === Clean up and quit ========================================================\n",
    "sim.end()"
   ]
  }
 ],
 "metadata": {
  "kernelspec": {
   "display_name": "Python 2",
   "language": "python",
   "name": "python2"
  },
  "language_info": {
   "codemirror_mode": {
    "name": "ipython",
    "version": 2
   },
   "file_extension": ".py",
   "mimetype": "text/x-python",
   "name": "python",
   "nbconvert_exporter": "python",
   "pygments_lexer": "ipython2",
   "version": "2.7.15rc1"
  }
 },
 "nbformat": 4,
 "nbformat_minor": 2
}
